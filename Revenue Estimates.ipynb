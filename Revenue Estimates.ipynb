{
  "nbformat": 4,
  "nbformat_minor": 0,
  "metadata": {
    "colab": {
      "provenance": [],
      "authorship_tag": "ABX9TyOA8+U2/ap89qFXWV1iH5Dm",
      "include_colab_link": true
    },
    "kernelspec": {
      "name": "python3",
      "display_name": "Python 3"
    },
    "language_info": {
      "name": "python"
    }
  },
  "cells": [
    {
      "cell_type": "markdown",
      "metadata": {
        "id": "view-in-github",
        "colab_type": "text"
      },
      "source": [
        "<a href=\"https://colab.research.google.com/github/gonzalez-kevin/PrelimRevenueEstimates/blob/main/Revenue%20Estimates.ipynb\" target=\"_parent\"><img src=\"https://colab.research.google.com/assets/colab-badge.svg\" alt=\"Open In Colab\"/></a>"
      ]
    },
    {
      "cell_type": "code",
      "execution_count": 1,
      "metadata": {
        "colab": {
          "base_uri": "https://localhost:8080/"
        },
        "id": "67yf0uEQjW0q",
        "outputId": "0e36b3e9-0f08-4f9d-f89a-de2226e136e6"
      },
      "outputs": [
        {
          "output_type": "stream",
          "name": "stdout",
          "text": [
            "Collecting XlsxWriter\n",
            "  Downloading XlsxWriter-3.2.2-py3-none-any.whl.metadata (2.8 kB)\n",
            "Downloading XlsxWriter-3.2.2-py3-none-any.whl (165 kB)\n",
            "\u001b[?25l   \u001b[90m━━━━━━━━━━━━━━━━━━━━━━━━━━━━━━━━━━━━━━━━\u001b[0m \u001b[32m0.0/165.1 kB\u001b[0m \u001b[31m?\u001b[0m eta \u001b[36m-:--:--\u001b[0m\r\u001b[2K   \u001b[91m━━━━━━━━━━━━━━━━━━━━━━━━━━━━━\u001b[0m\u001b[91m╸\u001b[0m\u001b[90m━━━━━━━━━━\u001b[0m \u001b[32m122.9/165.1 kB\u001b[0m \u001b[31m3.2 MB/s\u001b[0m eta \u001b[36m0:00:01\u001b[0m\r\u001b[2K   \u001b[90m━━━━━━━━━━━━━━━━━━━━━━━━━━━━━━━━━━━━━━━━\u001b[0m \u001b[32m165.1/165.1 kB\u001b[0m \u001b[31m3.1 MB/s\u001b[0m eta \u001b[36m0:00:00\u001b[0m\n",
            "\u001b[?25hInstalling collected packages: XlsxWriter\n",
            "Successfully installed XlsxWriter-3.2.2\n",
            "Requirement already satisfied: duckdb in /usr/local/lib/python3.11/dist-packages (1.1.3)\n"
          ]
        }
      ],
      "source": [
        "!pip install XlsxWriter\n",
        "!pip install duckdb"
      ]
    },
    {
      "cell_type": "code",
      "source": [
        "import pandas as pd\n",
        "import duckdb"
      ],
      "metadata": {
        "id": "--ZQpvYhj15x"
      },
      "execution_count": 2,
      "outputs": []
    },
    {
      "cell_type": "markdown",
      "source": [
        "# Code for in Current Month"
      ],
      "metadata": {
        "id": "bcD-0RdPloXt"
      }
    },
    {
      "cell_type": "code",
      "source": [
        "curr_month = \"\"\"\n",
        "WITH data AS (\n",
        "    SELECT\n",
        "        \"Jobsite Code\" AS job_number,\n",
        "        CAST(DATE_TRUNC('month', CURRENT_DATE) AS DATE) AS work_date,\n",
        "        COALESCE(\"Description\", '') || ' ' || COALESCE(\"Jobsite Code\", '') || '-' || COALESCE(\"Line No.\", '') AS description,\n",
        "        CASE\n",
        "            WHEN \"Price Type\" = 'Per Month' THEN 'Monthly'\n",
        "            ELSE 'Onetime'\n",
        "        END AS UOM,\n",
        "        CAST(REPLACE(CAST(\"Quantity\" AS VARCHAR), ',', '') AS FLOAT) AS quantity,\n",
        "        ROUND(CAST(REPLACE(CAST(\"Unit Price Excl. Tax\" AS VARCHAR), ',', '') AS FLOAT), 2) AS unit_price,\n",
        "        CAST(\"Start Date\" AS DATE) AS start_date,\n",
        "        CAST(\"Actual Stop Date\" AS DATE) AS stop_date,\n",
        "        \"Invoice Detail ID Description\" AS gl_description\n",
        "    FROM\n",
        "        \"RPM Document Lines.csv\"\n",
        "    WHERE\n",
        "        CAST(REPLACE(CAST(\"Quantity Shipped\" AS VARCHAR), ',', '') AS FLOAT) > 0\n",
        "        AND (\n",
        "            \"Actual Stop Date\" IS NULL\n",
        "            OR CAST(\"Actual Stop Date\" AS DATE) >= DATE_TRUNC('month', CURRENT_DATE)\n",
        "        )\n",
        ")\n",
        "\n",
        "SELECT\n",
        "    job_number,\n",
        "    CAST(work_date AS VARCHAR) AS work_date,\n",
        "    description,\n",
        "    UOM,\n",
        "    ROUND(\n",
        "        CASE\n",
        "            WHEN UOM = 'Onetime' THEN ROUND(unit_price * quantity, 2)\n",
        "            ELSE\n",
        "                ROUND(\n",
        "                CASE\n",
        "                    WHEN start_date IS NOT NULL AND stop_date IS NOT NULL\n",
        "                         AND DATE_TRUNC('month', start_date) = DATE_TRUNC('month', CURRENT_DATE)\n",
        "                         AND DATE_TRUNC('month', stop_date) = DATE_TRUNC('month', CURRENT_DATE) THEN\n",
        "                        (unit_price * quantity /\n",
        "                        EXTRACT(DAY FROM DATE_TRUNC('month', CURRENT_DATE + INTERVAL '1 month') - INTERVAL '1 day')) *\n",
        "                        (stop_date - start_date + 1)\n",
        "\n",
        "                    WHEN start_date IS NOT NULL\n",
        "                         AND DATE_TRUNC('month', start_date) = DATE_TRUNC('month', CURRENT_DATE) THEN\n",
        "                        (unit_price * quantity /\n",
        "                        EXTRACT(DAY FROM DATE_TRUNC('month', CURRENT_DATE + INTERVAL '1 month') - INTERVAL '1 day')) *\n",
        "                        ((DATE_TRUNC('month', CURRENT_DATE + INTERVAL '1 month') - INTERVAL '1 day')::DATE - start_date + 1)\n",
        "\n",
        "                    WHEN stop_date IS NOT NULL\n",
        "                         AND DATE_TRUNC('month', stop_date) = DATE_TRUNC('month', CURRENT_DATE) THEN\n",
        "                        (unit_price * quantity /\n",
        "                        EXTRACT(DAY FROM DATE_TRUNC('month', CURRENT_DATE + INTERVAL '1 month') - INTERVAL '1 day')) *\n",
        "                        (stop_date - DATE_TRUNC('month', CURRENT_DATE)::DATE + 1)\n",
        "\n",
        "                    ELSE unit_price * quantity\n",
        "                END, 2)\n",
        "        END, 2) AS rate,\n",
        "    1 AS quantity,\n",
        "    ROUND(\n",
        "        CASE\n",
        "            WHEN UOM = 'Onetime' THEN ROUND(unit_price * quantity, 2)\n",
        "            ELSE\n",
        "                ROUND(\n",
        "                CASE\n",
        "                    WHEN start_date IS NOT NULL AND stop_date IS NOT NULL\n",
        "                         AND DATE_TRUNC('month', start_date) = DATE_TRUNC('month', CURRENT_DATE)\n",
        "                         AND DATE_TRUNC('month', stop_date) = DATE_TRUNC('month', CURRENT_DATE) THEN\n",
        "                        (unit_price * quantity /\n",
        "                        EXTRACT(DAY FROM DATE_TRUNC('month', CURRENT_DATE + INTERVAL '1 month') - INTERVAL '1 day')) *\n",
        "                        (stop_date - start_date + 1)\n",
        "\n",
        "                    WHEN start_date IS NOT NULL\n",
        "                         AND DATE_TRUNC('month', start_date) = DATE_TRUNC('month', CURRENT_DATE) THEN\n",
        "                        (unit_price * quantity /\n",
        "                        EXTRACT(DAY FROM DATE_TRUNC('month', CURRENT_DATE + INTERVAL '1 month') - INTERVAL '1 day')) *\n",
        "                        ((DATE_TRUNC('month', CURRENT_DATE + INTERVAL '1 month') - INTERVAL '1 day')::DATE - start_date + 1)\n",
        "\n",
        "                    WHEN stop_date IS NOT NULL\n",
        "                         AND DATE_TRUNC('month', stop_date) = DATE_TRUNC('month', CURRENT_DATE) THEN\n",
        "                        (unit_price * quantity /\n",
        "                        EXTRACT(DAY FROM DATE_TRUNC('month', CURRENT_DATE + INTERVAL '1 month') - INTERVAL '1 day')) *\n",
        "                        (stop_date - DATE_TRUNC('month', CURRENT_DATE)::DATE + 1)\n",
        "\n",
        "                    ELSE unit_price * quantity\n",
        "                END, 2)\n",
        "        END, 2) AS extension,\n",
        "    CAST(start_date AS VARCHAR) AS start_date,\n",
        "    COALESCE(CAST(stop_date AS VARCHAR), '') AS stop_date,\n",
        "    gl_description\n",
        "FROM\n",
        "    data\n",
        "WHERE\n",
        "    (UOM = 'Monthly'\n",
        "    AND start_date < DATE_TRUNC('month', CURRENT_DATE + INTERVAL '1 month')\n",
        "    AND (stop_date IS NULL OR stop_date >= DATE_TRUNC('month', CURRENT_DATE)))\n",
        "    OR\n",
        "    (UOM = 'Onetime'\n",
        "    AND start_date >= DATE_TRUNC('month', CURRENT_DATE)\n",
        "    AND start_date < DATE_TRUNC('month', CURRENT_DATE + INTERVAL '1 month'))\n",
        "ORDER BY\n",
        "    job_number;\n",
        "\"\"\"\n",
        "\n",
        "df1 = duckdb.query(curr_month).df()  # Convert the result to a Pandas DataFrame\n",
        "\n"
      ],
      "metadata": {
        "id": "53VFXJiMkBZo"
      },
      "execution_count": 9,
      "outputs": []
    },
    {
      "cell_type": "code",
      "source": [
        "# Update values in dataframe and create a pivot table\n",
        "# Ensure 'rate' and 'extension' columns are of type float and round to two decimal places\n",
        "df1['gl_description'].replace('ECAM Damage Waiver', 'ECAM Other Rev & Reimbursement', inplace=True)\n",
        "df1['rate'] = df1['rate'].astype(float).round(2)\n",
        "df1['extension'] = df1['extension'].astype(float).round(2)\n",
        "\n",
        "# Convert date columns to datetime format\n",
        "date_columns = ['work_date', 'start_date', 'stop_date']\n",
        "for col in date_columns:\n",
        "    df1[col] = pd.to_datetime(df1[col], errors='coerce')\n",
        "\n",
        "# Write dataframes to an excel file with short date format\n",
        "with pd.ExcelWriter('Revenue Estimates.xlsx', engine='xlsxwriter') as writer:\n",
        "    df1.to_excel(writer, sheet_name='Data', index=False)\n",
        "\n",
        "    # Access the workbook and worksheet objects\n",
        "    workbook  = writer.book\n",
        "    worksheet = writer.sheets['Data']\n",
        "\n",
        "    # Define date format for the specified columns\n",
        "    date_format = workbook.add_format({'num_format': 'mm/dd/yyyy'})\n",
        "\n",
        "    # Apply the date format to the date columns\n",
        "    for idx, col in enumerate(df1.columns):\n",
        "        if col in date_columns:\n",
        "            worksheet.set_column(idx, idx, 15, date_format)  # Adjust the width if necessary\n"
      ],
      "metadata": {
        "colab": {
          "base_uri": "https://localhost:8080/"
        },
        "collapsed": true,
        "id": "qXpqk-3gkTkU",
        "outputId": "4cf32a53-b3dc-41a7-ab3e-394014a3da94"
      },
      "execution_count": 8,
      "outputs": [
        {
          "output_type": "stream",
          "name": "stderr",
          "text": [
            "<ipython-input-8-dcaf380f92bd>:3: FutureWarning: A value is trying to be set on a copy of a DataFrame or Series through chained assignment using an inplace method.\n",
            "The behavior will change in pandas 3.0. This inplace method will never work because the intermediate object on which we are setting values always behaves as a copy.\n",
            "\n",
            "For example, when doing 'df[col].method(value, inplace=True)', try using 'df.method({col: value}, inplace=True)' or df[col] = df[col].method(value) instead, to perform the operation inplace on the original object.\n",
            "\n",
            "\n",
            "  df1['gl_description'].replace('ECAM Damage Waiver', 'ECAM Other Rev & Reimbursement', inplace=True)\n"
          ]
        }
      ]
    },
    {
      "cell_type": "code",
      "source": [],
      "metadata": {
        "id": "6oqvRO_TlFbe"
      },
      "execution_count": null,
      "outputs": []
    },
    {
      "cell_type": "code",
      "source": [
        "from google.colab import drive\n",
        "drive.mount('/content/drive')"
      ],
      "metadata": {
        "id": "gpaAmxQ3mtFc"
      },
      "execution_count": null,
      "outputs": []
    },
    {
      "cell_type": "markdown",
      "source": [
        "# Code to run if in new month"
      ],
      "metadata": {
        "id": "DKsfdtxVlwLQ"
      }
    },
    {
      "cell_type": "code",
      "source": [
        "prev_month = \"\"\"\n",
        "WITH data AS (\n",
        "    SELECT\n",
        "        \"Jobsite Code\" AS job_number,\n",
        "        CAST(DATE_TRUNC('month', CURRENT_DATE) AS DATE) AS work_date,\n",
        "        COALESCE(\"Description\", '') || ' ' || COALESCE(\"Jobsite Code\", '') || '-' || COALESCE(\"Line No.\", '') AS description,\n",
        "        CASE\n",
        "            WHEN \"Price Type\" = 'Per Month' THEN 'Monthly'\n",
        "            ELSE 'Onetime'\n",
        "        END AS UOM,\n",
        "        CAST(REPLACE(CAST(\"Quantity\" AS VARCHAR), ',', '') AS FLOAT) AS quantity,\n",
        "        ROUND(CAST(REPLACE(CAST(\"Unit Price Excl. Tax\" AS VARCHAR), ',', '') AS FLOAT), 2) AS unit_price,\n",
        "        CAST(\"Start Date\" AS DATE) AS start_date,\n",
        "        CAST(\"Actual Stop Date\" AS DATE) AS stop_date,\n",
        "        \"Invoice Detail ID Description\" AS gl_description\n",
        "    FROM\n",
        "        \"RPM Document Lines.csv\"\n",
        "    WHERE\n",
        "        CAST(REPLACE(CAST(\"Quantity Shipped\" AS VARCHAR), ',', '') AS FLOAT) > 0\n",
        "        AND (\n",
        "            \"Actual Stop Date\" IS NULL\n",
        "            OR CAST(\"Actual Stop Date\" AS DATE) >= DATE_TRUNC('month', CURRENT_DATE)\n",
        "        )\n",
        ")\n",
        "\n",
        "SELECT\n",
        "    job_number,\n",
        "    CAST(work_date AS VARCHAR) AS work_date,\n",
        "    description,\n",
        "    UOM,\n",
        "    ROUND(\n",
        "        CASE\n",
        "            WHEN UOM = 'Onetime' THEN ROUND(unit_price * quantity, 2)\n",
        "            ELSE\n",
        "                ROUND(\n",
        "                CASE\n",
        "                    WHEN start_date IS NOT NULL AND stop_date IS NOT NULL\n",
        "                         AND DATE_TRUNC('month', start_date) = DATE_TRUNC('month', CURRENT_DATE)\n",
        "                         AND DATE_TRUNC('month', stop_date) = DATE_TRUNC('month', CURRENT_DATE) THEN\n",
        "                        (unit_price * quantity /\n",
        "                        EXTRACT(DAY FROM DATE_TRUNC('month', CURRENT_DATE + INTERVAL '1 month') - INTERVAL '1 day')) *\n",
        "                        (stop_date - start_date + 1)\n",
        "\n",
        "                    WHEN start_date IS NOT NULL\n",
        "                         AND DATE_TRUNC('month', start_date) = DATE_TRUNC('month', CURRENT_DATE) THEN\n",
        "                        (unit_price * quantity /\n",
        "                        EXTRACT(DAY FROM DATE_TRUNC('month', CURRENT_DATE + INTERVAL '1 month') - INTERVAL '1 day')) *\n",
        "                        ((DATE_TRUNC('month', CURRENT_DATE + INTERVAL '1 month') - INTERVAL '1 day')::DATE - start_date + 1)\n",
        "\n",
        "                    WHEN stop_date IS NOT NULL\n",
        "                         AND DATE_TRUNC('month', stop_date) = DATE_TRUNC('month', CURRENT_DATE) THEN\n",
        "                        (unit_price * quantity /\n",
        "                        EXTRACT(DAY FROM DATE_TRUNC('month', CURRENT_DATE + INTERVAL '1 month') - INTERVAL '1 day')) *\n",
        "                        (stop_date - DATE_TRUNC('month', CURRENT_DATE)::DATE + 1)\n",
        "\n",
        "                    ELSE unit_price * quantity\n",
        "                END, 2)\n",
        "        END, 2) AS rate,\n",
        "    1 AS quantity,\n",
        "    ROUND(\n",
        "        CASE\n",
        "            WHEN UOM = 'Onetime' THEN ROUND(unit_price * quantity, 2)\n",
        "            ELSE\n",
        "                ROUND(\n",
        "                CASE\n",
        "                    WHEN start_date IS NOT NULL AND stop_date IS NOT NULL\n",
        "                         AND DATE_TRUNC('month', start_date) = DATE_TRUNC('month', CURRENT_DATE)\n",
        "                         AND DATE_TRUNC('month', stop_date) = DATE_TRUNC('month', CURRENT_DATE) THEN\n",
        "                        (unit_price * quantity /\n",
        "                        EXTRACT(DAY FROM DATE_TRUNC('month', CURRENT_DATE + INTERVAL '1 month') - INTERVAL '1 day')) *\n",
        "                        (stop_date - start_date + 1)\n",
        "\n",
        "                    WHEN start_date IS NOT NULL\n",
        "                         AND DATE_TRUNC('month', start_date) = DATE_TRUNC('month', CURRENT_DATE) THEN\n",
        "                        (unit_price * quantity /\n",
        "                        EXTRACT(DAY FROM DATE_TRUNC('month', CURRENT_DATE + INTERVAL '1 month') - INTERVAL '1 day')) *\n",
        "                        ((DATE_TRUNC('month', CURRENT_DATE + INTERVAL '1 month') - INTERVAL '1 day')::DATE - start_date + 1)\n",
        "\n",
        "                    WHEN stop_date IS NOT NULL\n",
        "                         AND DATE_TRUNC('month', stop_date) = DATE_TRUNC('month', CURRENT_DATE) THEN\n",
        "                        (unit_price * quantity /\n",
        "                        EXTRACT(DAY FROM DATE_TRUNC('month', CURRENT_DATE + INTERVAL '1 month') - INTERVAL '1 day')) *\n",
        "                        (stop_date - DATE_TRUNC('month', CURRENT_DATE)::DATE + 1)\n",
        "\n",
        "                    ELSE unit_price * quantity\n",
        "                END, 2)\n",
        "        END, 2) AS extension,\n",
        "    CAST(start_date AS VARCHAR) AS start_date,\n",
        "    COALESCE(CAST(stop_date AS VARCHAR), '') AS stop_date,\n",
        "    gl_description\n",
        "FROM\n",
        "    data\n",
        "WHERE\n",
        "    (UOM = 'Monthly'\n",
        "    AND start_date < DATE_TRUNC('month', CURRENT_DATE + INTERVAL '1 month')\n",
        "    AND (stop_date IS NULL OR stop_date >= DATE_TRUNC('month', CURRENT_DATE)))\n",
        "    OR\n",
        "    (UOM = 'Onetime'\n",
        "    AND start_date >= DATE_TRUNC('month', CURRENT_DATE)\n",
        "    AND start_date < DATE_TRUNC('month', CURRENT_DATE + INTERVAL '1 month'))\n",
        "ORDER BY\n",
        "    job_number;\n",
        "\"\"\"\n",
        "\n",
        "df2 = duckdb.query(prev_month).df()  # Convert the result to a Pandas DataFrame\n",
        "\n"
      ],
      "metadata": {
        "id": "WaQI6waumFjC"
      },
      "execution_count": 10,
      "outputs": []
    },
    {
      "cell_type": "code",
      "source": [
        "# Update values in dataframe and create a pivot table\n",
        "# Ensure 'rate' and 'extension' columns are of type float and round to two decimal places\n",
        "df2['gl_description'].replace('ECAM Damage Waiver', 'ECAM Other Rev & Reimbursement', inplace=True)\n",
        "df2['rate'] = df2['rate'].astype(float).round(2)\n",
        "df2['extension'] = df2['extension'].astype(float).round(2)\n",
        "\n",
        "# Convert date columns to datetime format\n",
        "date_columns = ['work_date', 'start_date', 'stop_date']\n",
        "for col in date_columns:\n",
        "    df2[col] = pd.to_datetime(df2[col], errors='coerce')\n",
        "\n",
        "# Write dataframes to an excel file with short date format\n",
        "with pd.ExcelWriter('PrvMo Revenue Estimates.xlsx', engine='xlsxwriter') as writer:\n",
        "    df2.to_excel(writer, sheet_name='Data', index=False)\n",
        "\n",
        "    # Access the workbook and worksheet objects\n",
        "    workbook  = writer.book\n",
        "    worksheet = writer.sheets['Data']\n",
        "\n",
        "    # Define date format for the specified columns\n",
        "    date_format = workbook.add_format({'num_format': 'mm/dd/yyyy'})\n",
        "\n",
        "    # Apply the date format to the date columns\n",
        "    for idx, col in enumerate(df2.columns):\n",
        "        if col in date_columns:\n",
        "            worksheet.set_column(idx, idx, 15, date_format)  # Adjust the width if necessary\n"
      ],
      "metadata": {
        "colab": {
          "base_uri": "https://localhost:8080/"
        },
        "id": "Jgyrcas7mUy6",
        "outputId": "3cc9f8cf-cfd6-4bdb-dad0-95f188c66957"
      },
      "execution_count": 11,
      "outputs": [
        {
          "output_type": "stream",
          "name": "stderr",
          "text": [
            "<ipython-input-11-9d2a3d874a9a>:3: FutureWarning: A value is trying to be set on a copy of a DataFrame or Series through chained assignment using an inplace method.\n",
            "The behavior will change in pandas 3.0. This inplace method will never work because the intermediate object on which we are setting values always behaves as a copy.\n",
            "\n",
            "For example, when doing 'df[col].method(value, inplace=True)', try using 'df.method({col: value}, inplace=True)' or df[col] = df[col].method(value) instead, to perform the operation inplace on the original object.\n",
            "\n",
            "\n",
            "  df2['gl_description'].replace('ECAM Damage Waiver', 'ECAM Other Rev & Reimbursement', inplace=True)\n"
          ]
        }
      ]
    }
  ]
}